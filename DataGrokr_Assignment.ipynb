{
  "cells": [
    {
      "cell_type": "code",
      "execution_count": null,
      "metadata": {
        "id": "2vOLgR9s5BU0"
      },
      "outputs": [],
      "source": [
        "!apt-get install openjdk-8-jdk-headless -qq > /dev/null"
      ]
    },
    {
      "cell_type": "code",
      "execution_count": null,
      "metadata": {
        "id": "4BU9RYjp5LV5"
      },
      "outputs": [],
      "source": [
        "!wget -q https://archive.apache.org/dist/spark/spark-3.1.2/spark-3.1.2-bin-hadoop2.7.tgz"
      ]
    },
    {
      "cell_type": "code",
      "execution_count": null,
      "metadata": {
        "id": "aqaxm4Kl5O0-"
      },
      "outputs": [],
      "source": [
        "!tar xf spark-3.1.2-bin-hadoop2.7.tgz"
      ]
    },
    {
      "cell_type": "code",
      "execution_count": null,
      "metadata": {
        "id": "TpOJ0g8J5Rc2"
      },
      "outputs": [],
      "source": [
        "import os\n",
        "os.environ[\"JAVA_HOME\"] = \"/usr/lib/jvm/java-8-openjdk-amd64\"\n",
        "os.environ[\"SPARK_HOME\"] = \"/content/spark-3.1.2-bin-hadoop2.7\""
      ]
    },
    {
      "cell_type": "code",
      "execution_count": null,
      "metadata": {
        "colab": {
          "base_uri": "https://localhost:8080/"
        },
        "id": "LF4xEYsKd9pT",
        "outputId": "b86cc7e6-5420-4de9-d962-d3aa75e3ae7e"
      },
      "outputs": [
        {
          "output_type": "stream",
          "name": "stdout",
          "text": [
            "Collecting pyspark\n",
            "  Downloading pyspark-3.2.1.tar.gz (281.4 MB)\n",
            "\u001b[K     |████████████████████████████████| 281.4 MB 29 kB/s \n",
            "\u001b[?25hCollecting py4j==0.10.9.3\n",
            "  Downloading py4j-0.10.9.3-py2.py3-none-any.whl (198 kB)\n",
            "\u001b[K     |████████████████████████████████| 198 kB 60.5 MB/s \n",
            "\u001b[?25hBuilding wheels for collected packages: pyspark\n",
            "  Building wheel for pyspark (setup.py) ... \u001b[?25l\u001b[?25hdone\n",
            "  Created wheel for pyspark: filename=pyspark-3.2.1-py2.py3-none-any.whl size=281853642 sha256=0d820d83a26a456d9dfc3fb46c88374706c14494f70ad227cc31e646e30a7c9f\n",
            "  Stored in directory: /root/.cache/pip/wheels/9f/f5/07/7cd8017084dce4e93e84e92efd1e1d5334db05f2e83bcef74f\n",
            "Successfully built pyspark\n",
            "Installing collected packages: py4j, pyspark\n",
            "Successfully installed py4j-0.10.9.3 pyspark-3.2.1\n"
          ]
        }
      ],
      "source": [
        "!pip install pyspark"
      ]
    },
    {
      "cell_type": "code",
      "execution_count": null,
      "metadata": {
        "id": "ZmQx4r4R5VIL"
      },
      "outputs": [],
      "source": [
        "!pip install -q findspark\n",
        "import findspark\n",
        "findspark.init()"
      ]
    },
    {
      "cell_type": "code",
      "source": [
        "findspark.find()"
      ],
      "metadata": {
        "id": "47I3H3xC0h-n",
        "colab": {
          "base_uri": "https://localhost:8080/",
          "height": 35
        },
        "outputId": "efa31d5b-4d99-4394-fb8f-42bef3634b8d"
      },
      "execution_count": null,
      "outputs": [
        {
          "output_type": "execute_result",
          "data": {
            "application/vnd.google.colaboratory.intrinsic+json": {
              "type": "string"
            },
            "text/plain": [
              "'/content/spark-3.1.2-bin-hadoop2.7'"
            ]
          },
          "metadata": {},
          "execution_count": 7
        }
      ]
    },
    {
      "cell_type": "code",
      "execution_count": null,
      "metadata": {
        "id": "Bsemk3t0dh51"
      },
      "outputs": [],
      "source": [
        "from pyspark.sql import SparkSession"
      ]
    },
    {
      "cell_type": "code",
      "execution_count": null,
      "metadata": {
        "id": "35fuQpT_67p4"
      },
      "outputs": [],
      "source": [
        "spark = SparkSession.builder\\\n",
        "        .appName(\"colab\")\\\n",
        "        .getOrCreate()"
      ]
    },
    {
      "cell_type": "code",
      "execution_count": null,
      "metadata": {
        "id": "5nBiF4iPhpUe",
        "colab": {
          "base_uri": "https://localhost:8080/"
        },
        "outputId": "033ec812-24d0-4545-eac7-c9b6501e2587"
      },
      "outputs": [
        {
          "output_type": "stream",
          "name": "stdout",
          "text": [
            "+--------+------+-----+----+-------------+-------------+------------+------------+----------+----------+------------+---------+--------------+----------------+-------+-----------+--------------------+--------------------+\n",
            "|match_id|inning|overs|ball|      batsman|  non_striker|      bowler|batsman_runs|extra_runs|total_runs|non_boundary|is_wicket|dismissal_kind|player_dismissed|fielder|extras_type|        batting_team|        bowling_team|\n",
            "+--------+------+-----+----+-------------+-------------+------------+------------+----------+----------+------------+---------+--------------+----------------+-------+-----------+--------------------+--------------------+\n",
            "|  419157|     2|   16|   4|      V Kohli|R Vinay Kumar|CRD Fernando|           0|         0|         0|           0|        0|            NA|              NA|     NA|         NA|Royal Challengers...|      Mumbai Indians|\n",
            "|  419157|     2|   16|   5|      V Kohli|R Vinay Kumar|CRD Fernando|           1|         0|         1|           0|        0|            NA|              NA|     NA|         NA|Royal Challengers...|      Mumbai Indians|\n",
            "|  419157|     2|   16|   6|R Vinay Kumar|      V Kohli|CRD Fernando|           1|         0|         1|           0|        0|            NA|              NA|     NA|         NA|Royal Challengers...|      Mumbai Indians|\n",
            "|  419157|     2|   17|   1|R Vinay Kumar|      V Kohli|   R McLaren|           1|         0|         1|           0|        0|            NA|              NA|     NA|         NA|Royal Challengers...|      Mumbai Indians|\n",
            "|  419157|     2|   17|   2|      V Kohli|R Vinay Kumar|   R McLaren|           1|         0|         1|           0|        0|            NA|              NA|     NA|         NA|Royal Challengers...|      Mumbai Indians|\n",
            "|  419157|     2|   17|   3|R Vinay Kumar|      V Kohli|   R McLaren|           0|         0|         0|           0|        0|            NA|              NA|     NA|         NA|Royal Challengers...|      Mumbai Indians|\n",
            "|  419157|     2|   17|   4|R Vinay Kumar|      V Kohli|   R McLaren|           0|         0|         0|           0|        0|            NA|              NA|     NA|         NA|Royal Challengers...|      Mumbai Indians|\n",
            "|  419157|     2|   17|   5|R Vinay Kumar|      V Kohli|   R McLaren|           1|         0|         1|           0|        0|            NA|              NA|     NA|         NA|Royal Challengers...|      Mumbai Indians|\n",
            "|  419157|     2|   17|   6|      V Kohli|R Vinay Kumar|   R McLaren|           1|         0|         1|           0|        0|            NA|              NA|     NA|         NA|Royal Challengers...|      Mumbai Indians|\n",
            "|  419157|     2|   18|   1|      V Kohli|R Vinay Kumar|  KA Pollard|           4|         0|         4|           0|        0|            NA|              NA|     NA|         NA|Royal Challengers...|      Mumbai Indians|\n",
            "|  419157|     2|   18|   2|      V Kohli|R Vinay Kumar|  KA Pollard|           0|         0|         0|           0|        1|        caught|         V Kohli|AP Tare|         NA|Royal Challengers...|      Mumbai Indians|\n",
            "|  419157|     2|   18|   3|R Vinay Kumar| Pankaj Singh|  KA Pollard|           0|         1|         1|           0|        0|            NA|              NA|     NA|      wides|Royal Challengers...|      Mumbai Indians|\n",
            "|  419157|     2|   18|   4|R Vinay Kumar| Pankaj Singh|  KA Pollard|           1|         0|         1|           0|        0|            NA|              NA|     NA|         NA|Royal Challengers...|      Mumbai Indians|\n",
            "|  419157|     2|   18|   5| Pankaj Singh|R Vinay Kumar|  KA Pollard|           1|         0|         1|           0|        0|            NA|              NA|     NA|         NA|Royal Challengers...|      Mumbai Indians|\n",
            "|  419157|     2|   18|   6|R Vinay Kumar| Pankaj Singh|  KA Pollard|           1|         0|         1|           0|        0|            NA|              NA|     NA|         NA|Royal Challengers...|      Mumbai Indians|\n",
            "|  419157|     2|   18|   7| Pankaj Singh|R Vinay Kumar|  KA Pollard|           0|         0|         0|           0|        1|        caught|    Pankaj Singh| Z Khan|         NA|Royal Challengers...|      Mumbai Indians|\n",
            "|  419157|     2|   19|   1|     A Kumble|R Vinay Kumar|   R McLaren|           0|         0|         0|           0|        0|            NA|              NA|     NA|         NA|Royal Challengers...|      Mumbai Indians|\n",
            "|  419157|     1|    0|   1|    R McLaren| SR Tendulkar|    DW Steyn|           1|         0|         1|           0|        0|            NA|              NA|     NA|         NA|      Mumbai Indians|Royal Challengers...|\n",
            "|  419157|     1|    0|   2| SR Tendulkar|    R McLaren|    DW Steyn|           0|         0|         0|           0|        0|            NA|              NA|     NA|         NA|      Mumbai Indians|Royal Challengers...|\n",
            "|  419157|     1|    0|   3| SR Tendulkar|    R McLaren|    DW Steyn|           1|         0|         1|           0|        0|            NA|              NA|     NA|         NA|      Mumbai Indians|Royal Challengers...|\n",
            "+--------+------+-----+----+-------------+-------------+------------+------------+----------+----------+------------+---------+--------------+----------------+-------+-----------+--------------------+--------------------+\n",
            "only showing top 20 rows\n",
            "\n"
          ]
        }
      ],
      "source": [
        "df1 = spark.read.load(\"/content/ipl_ball_by_ball.csv\",\n",
        "                     format=\"csv\", inferSchema=\"true\", header=\"true\")\n",
        "df1.show()"
      ]
    },
    {
      "cell_type": "code",
      "source": [
        "df1.show(vertical=True)\n"
      ],
      "metadata": {
        "id": "PctIDfjX4Hve",
        "colab": {
          "base_uri": "https://localhost:8080/"
        },
        "outputId": "d673daed-dc2d-4170-cf2e-29fb87b26934"
      },
      "execution_count": null,
      "outputs": [
        {
          "output_type": "stream",
          "name": "stdout",
          "text": [
            "-RECORD 0--------------------------------\n",
            " match_id         | 419157               \n",
            " inning           | 2                    \n",
            " overs            | 16                   \n",
            " ball             | 4                    \n",
            " batsman          | V Kohli              \n",
            " non_striker      | R Vinay Kumar        \n",
            " bowler           | CRD Fernando         \n",
            " batsman_runs     | 0                    \n",
            " extra_runs       | 0                    \n",
            " total_runs       | 0                    \n",
            " non_boundary     | 0                    \n",
            " is_wicket        | 0                    \n",
            " dismissal_kind   | NA                   \n",
            " player_dismissed | NA                   \n",
            " fielder          | NA                   \n",
            " extras_type      | NA                   \n",
            " batting_team     | Royal Challengers... \n",
            " bowling_team     | Mumbai Indians       \n",
            "-RECORD 1--------------------------------\n",
            " match_id         | 419157               \n",
            " inning           | 2                    \n",
            " overs            | 16                   \n",
            " ball             | 5                    \n",
            " batsman          | V Kohli              \n",
            " non_striker      | R Vinay Kumar        \n",
            " bowler           | CRD Fernando         \n",
            " batsman_runs     | 1                    \n",
            " extra_runs       | 0                    \n",
            " total_runs       | 1                    \n",
            " non_boundary     | 0                    \n",
            " is_wicket        | 0                    \n",
            " dismissal_kind   | NA                   \n",
            " player_dismissed | NA                   \n",
            " fielder          | NA                   \n",
            " extras_type      | NA                   \n",
            " batting_team     | Royal Challengers... \n",
            " bowling_team     | Mumbai Indians       \n",
            "-RECORD 2--------------------------------\n",
            " match_id         | 419157               \n",
            " inning           | 2                    \n",
            " overs            | 16                   \n",
            " ball             | 6                    \n",
            " batsman          | R Vinay Kumar        \n",
            " non_striker      | V Kohli              \n",
            " bowler           | CRD Fernando         \n",
            " batsman_runs     | 1                    \n",
            " extra_runs       | 0                    \n",
            " total_runs       | 1                    \n",
            " non_boundary     | 0                    \n",
            " is_wicket        | 0                    \n",
            " dismissal_kind   | NA                   \n",
            " player_dismissed | NA                   \n",
            " fielder          | NA                   \n",
            " extras_type      | NA                   \n",
            " batting_team     | Royal Challengers... \n",
            " bowling_team     | Mumbai Indians       \n",
            "-RECORD 3--------------------------------\n",
            " match_id         | 419157               \n",
            " inning           | 2                    \n",
            " overs            | 17                   \n",
            " ball             | 1                    \n",
            " batsman          | R Vinay Kumar        \n",
            " non_striker      | V Kohli              \n",
            " bowler           | R McLaren            \n",
            " batsman_runs     | 1                    \n",
            " extra_runs       | 0                    \n",
            " total_runs       | 1                    \n",
            " non_boundary     | 0                    \n",
            " is_wicket        | 0                    \n",
            " dismissal_kind   | NA                   \n",
            " player_dismissed | NA                   \n",
            " fielder          | NA                   \n",
            " extras_type      | NA                   \n",
            " batting_team     | Royal Challengers... \n",
            " bowling_team     | Mumbai Indians       \n",
            "-RECORD 4--------------------------------\n",
            " match_id         | 419157               \n",
            " inning           | 2                    \n",
            " overs            | 17                   \n",
            " ball             | 2                    \n",
            " batsman          | V Kohli              \n",
            " non_striker      | R Vinay Kumar        \n",
            " bowler           | R McLaren            \n",
            " batsman_runs     | 1                    \n",
            " extra_runs       | 0                    \n",
            " total_runs       | 1                    \n",
            " non_boundary     | 0                    \n",
            " is_wicket        | 0                    \n",
            " dismissal_kind   | NA                   \n",
            " player_dismissed | NA                   \n",
            " fielder          | NA                   \n",
            " extras_type      | NA                   \n",
            " batting_team     | Royal Challengers... \n",
            " bowling_team     | Mumbai Indians       \n",
            "-RECORD 5--------------------------------\n",
            " match_id         | 419157               \n",
            " inning           | 2                    \n",
            " overs            | 17                   \n",
            " ball             | 3                    \n",
            " batsman          | R Vinay Kumar        \n",
            " non_striker      | V Kohli              \n",
            " bowler           | R McLaren            \n",
            " batsman_runs     | 0                    \n",
            " extra_runs       | 0                    \n",
            " total_runs       | 0                    \n",
            " non_boundary     | 0                    \n",
            " is_wicket        | 0                    \n",
            " dismissal_kind   | NA                   \n",
            " player_dismissed | NA                   \n",
            " fielder          | NA                   \n",
            " extras_type      | NA                   \n",
            " batting_team     | Royal Challengers... \n",
            " bowling_team     | Mumbai Indians       \n",
            "-RECORD 6--------------------------------\n",
            " match_id         | 419157               \n",
            " inning           | 2                    \n",
            " overs            | 17                   \n",
            " ball             | 4                    \n",
            " batsman          | R Vinay Kumar        \n",
            " non_striker      | V Kohli              \n",
            " bowler           | R McLaren            \n",
            " batsman_runs     | 0                    \n",
            " extra_runs       | 0                    \n",
            " total_runs       | 0                    \n",
            " non_boundary     | 0                    \n",
            " is_wicket        | 0                    \n",
            " dismissal_kind   | NA                   \n",
            " player_dismissed | NA                   \n",
            " fielder          | NA                   \n",
            " extras_type      | NA                   \n",
            " batting_team     | Royal Challengers... \n",
            " bowling_team     | Mumbai Indians       \n",
            "-RECORD 7--------------------------------\n",
            " match_id         | 419157               \n",
            " inning           | 2                    \n",
            " overs            | 17                   \n",
            " ball             | 5                    \n",
            " batsman          | R Vinay Kumar        \n",
            " non_striker      | V Kohli              \n",
            " bowler           | R McLaren            \n",
            " batsman_runs     | 1                    \n",
            " extra_runs       | 0                    \n",
            " total_runs       | 1                    \n",
            " non_boundary     | 0                    \n",
            " is_wicket        | 0                    \n",
            " dismissal_kind   | NA                   \n",
            " player_dismissed | NA                   \n",
            " fielder          | NA                   \n",
            " extras_type      | NA                   \n",
            " batting_team     | Royal Challengers... \n",
            " bowling_team     | Mumbai Indians       \n",
            "-RECORD 8--------------------------------\n",
            " match_id         | 419157               \n",
            " inning           | 2                    \n",
            " overs            | 17                   \n",
            " ball             | 6                    \n",
            " batsman          | V Kohli              \n",
            " non_striker      | R Vinay Kumar        \n",
            " bowler           | R McLaren            \n",
            " batsman_runs     | 1                    \n",
            " extra_runs       | 0                    \n",
            " total_runs       | 1                    \n",
            " non_boundary     | 0                    \n",
            " is_wicket        | 0                    \n",
            " dismissal_kind   | NA                   \n",
            " player_dismissed | NA                   \n",
            " fielder          | NA                   \n",
            " extras_type      | NA                   \n",
            " batting_team     | Royal Challengers... \n",
            " bowling_team     | Mumbai Indians       \n",
            "-RECORD 9--------------------------------\n",
            " match_id         | 419157               \n",
            " inning           | 2                    \n",
            " overs            | 18                   \n",
            " ball             | 1                    \n",
            " batsman          | V Kohli              \n",
            " non_striker      | R Vinay Kumar        \n",
            " bowler           | KA Pollard           \n",
            " batsman_runs     | 4                    \n",
            " extra_runs       | 0                    \n",
            " total_runs       | 4                    \n",
            " non_boundary     | 0                    \n",
            " is_wicket        | 0                    \n",
            " dismissal_kind   | NA                   \n",
            " player_dismissed | NA                   \n",
            " fielder          | NA                   \n",
            " extras_type      | NA                   \n",
            " batting_team     | Royal Challengers... \n",
            " bowling_team     | Mumbai Indians       \n",
            "-RECORD 10-------------------------------\n",
            " match_id         | 419157               \n",
            " inning           | 2                    \n",
            " overs            | 18                   \n",
            " ball             | 2                    \n",
            " batsman          | V Kohli              \n",
            " non_striker      | R Vinay Kumar        \n",
            " bowler           | KA Pollard           \n",
            " batsman_runs     | 0                    \n",
            " extra_runs       | 0                    \n",
            " total_runs       | 0                    \n",
            " non_boundary     | 0                    \n",
            " is_wicket        | 1                    \n",
            " dismissal_kind   | caught               \n",
            " player_dismissed | V Kohli              \n",
            " fielder          | AP Tare              \n",
            " extras_type      | NA                   \n",
            " batting_team     | Royal Challengers... \n",
            " bowling_team     | Mumbai Indians       \n",
            "-RECORD 11-------------------------------\n",
            " match_id         | 419157               \n",
            " inning           | 2                    \n",
            " overs            | 18                   \n",
            " ball             | 3                    \n",
            " batsman          | R Vinay Kumar        \n",
            " non_striker      | Pankaj Singh         \n",
            " bowler           | KA Pollard           \n",
            " batsman_runs     | 0                    \n",
            " extra_runs       | 1                    \n",
            " total_runs       | 1                    \n",
            " non_boundary     | 0                    \n",
            " is_wicket        | 0                    \n",
            " dismissal_kind   | NA                   \n",
            " player_dismissed | NA                   \n",
            " fielder          | NA                   \n",
            " extras_type      | wides                \n",
            " batting_team     | Royal Challengers... \n",
            " bowling_team     | Mumbai Indians       \n",
            "-RECORD 12-------------------------------\n",
            " match_id         | 419157               \n",
            " inning           | 2                    \n",
            " overs            | 18                   \n",
            " ball             | 4                    \n",
            " batsman          | R Vinay Kumar        \n",
            " non_striker      | Pankaj Singh         \n",
            " bowler           | KA Pollard           \n",
            " batsman_runs     | 1                    \n",
            " extra_runs       | 0                    \n",
            " total_runs       | 1                    \n",
            " non_boundary     | 0                    \n",
            " is_wicket        | 0                    \n",
            " dismissal_kind   | NA                   \n",
            " player_dismissed | NA                   \n",
            " fielder          | NA                   \n",
            " extras_type      | NA                   \n",
            " batting_team     | Royal Challengers... \n",
            " bowling_team     | Mumbai Indians       \n",
            "-RECORD 13-------------------------------\n",
            " match_id         | 419157               \n",
            " inning           | 2                    \n",
            " overs            | 18                   \n",
            " ball             | 5                    \n",
            " batsman          | Pankaj Singh         \n",
            " non_striker      | R Vinay Kumar        \n",
            " bowler           | KA Pollard           \n",
            " batsman_runs     | 1                    \n",
            " extra_runs       | 0                    \n",
            " total_runs       | 1                    \n",
            " non_boundary     | 0                    \n",
            " is_wicket        | 0                    \n",
            " dismissal_kind   | NA                   \n",
            " player_dismissed | NA                   \n",
            " fielder          | NA                   \n",
            " extras_type      | NA                   \n",
            " batting_team     | Royal Challengers... \n",
            " bowling_team     | Mumbai Indians       \n",
            "-RECORD 14-------------------------------\n",
            " match_id         | 419157               \n",
            " inning           | 2                    \n",
            " overs            | 18                   \n",
            " ball             | 6                    \n",
            " batsman          | R Vinay Kumar        \n",
            " non_striker      | Pankaj Singh         \n",
            " bowler           | KA Pollard           \n",
            " batsman_runs     | 1                    \n",
            " extra_runs       | 0                    \n",
            " total_runs       | 1                    \n",
            " non_boundary     | 0                    \n",
            " is_wicket        | 0                    \n",
            " dismissal_kind   | NA                   \n",
            " player_dismissed | NA                   \n",
            " fielder          | NA                   \n",
            " extras_type      | NA                   \n",
            " batting_team     | Royal Challengers... \n",
            " bowling_team     | Mumbai Indians       \n",
            "-RECORD 15-------------------------------\n",
            " match_id         | 419157               \n",
            " inning           | 2                    \n",
            " overs            | 18                   \n",
            " ball             | 7                    \n",
            " batsman          | Pankaj Singh         \n",
            " non_striker      | R Vinay Kumar        \n",
            " bowler           | KA Pollard           \n",
            " batsman_runs     | 0                    \n",
            " extra_runs       | 0                    \n",
            " total_runs       | 0                    \n",
            " non_boundary     | 0                    \n",
            " is_wicket        | 1                    \n",
            " dismissal_kind   | caught               \n",
            " player_dismissed | Pankaj Singh         \n",
            " fielder          | Z Khan               \n",
            " extras_type      | NA                   \n",
            " batting_team     | Royal Challengers... \n",
            " bowling_team     | Mumbai Indians       \n",
            "-RECORD 16-------------------------------\n",
            " match_id         | 419157               \n",
            " inning           | 2                    \n",
            " overs            | 19                   \n",
            " ball             | 1                    \n",
            " batsman          | A Kumble             \n",
            " non_striker      | R Vinay Kumar        \n",
            " bowler           | R McLaren            \n",
            " batsman_runs     | 0                    \n",
            " extra_runs       | 0                    \n",
            " total_runs       | 0                    \n",
            " non_boundary     | 0                    \n",
            " is_wicket        | 0                    \n",
            " dismissal_kind   | NA                   \n",
            " player_dismissed | NA                   \n",
            " fielder          | NA                   \n",
            " extras_type      | NA                   \n",
            " batting_team     | Royal Challengers... \n",
            " bowling_team     | Mumbai Indians       \n",
            "-RECORD 17-------------------------------\n",
            " match_id         | 419157               \n",
            " inning           | 1                    \n",
            " overs            | 0                    \n",
            " ball             | 1                    \n",
            " batsman          | R McLaren            \n",
            " non_striker      | SR Tendulkar         \n",
            " bowler           | DW Steyn             \n",
            " batsman_runs     | 1                    \n",
            " extra_runs       | 0                    \n",
            " total_runs       | 1                    \n",
            " non_boundary     | 0                    \n",
            " is_wicket        | 0                    \n",
            " dismissal_kind   | NA                   \n",
            " player_dismissed | NA                   \n",
            " fielder          | NA                   \n",
            " extras_type      | NA                   \n",
            " batting_team     | Mumbai Indians       \n",
            " bowling_team     | Royal Challengers... \n",
            "-RECORD 18-------------------------------\n",
            " match_id         | 419157               \n",
            " inning           | 1                    \n",
            " overs            | 0                    \n",
            " ball             | 2                    \n",
            " batsman          | SR Tendulkar         \n",
            " non_striker      | R McLaren            \n",
            " bowler           | DW Steyn             \n",
            " batsman_runs     | 0                    \n",
            " extra_runs       | 0                    \n",
            " total_runs       | 0                    \n",
            " non_boundary     | 0                    \n",
            " is_wicket        | 0                    \n",
            " dismissal_kind   | NA                   \n",
            " player_dismissed | NA                   \n",
            " fielder          | NA                   \n",
            " extras_type      | NA                   \n",
            " batting_team     | Mumbai Indians       \n",
            " bowling_team     | Royal Challengers... \n",
            "-RECORD 19-------------------------------\n",
            " match_id         | 419157               \n",
            " inning           | 1                    \n",
            " overs            | 0                    \n",
            " ball             | 3                    \n",
            " batsman          | SR Tendulkar         \n",
            " non_striker      | R McLaren            \n",
            " bowler           | DW Steyn             \n",
            " batsman_runs     | 1                    \n",
            " extra_runs       | 0                    \n",
            " total_runs       | 1                    \n",
            " non_boundary     | 0                    \n",
            " is_wicket        | 0                    \n",
            " dismissal_kind   | NA                   \n",
            " player_dismissed | NA                   \n",
            " fielder          | NA                   \n",
            " extras_type      | NA                   \n",
            " batting_team     | Mumbai Indians       \n",
            " bowling_team     | Royal Challengers... \n",
            "only showing top 20 rows\n",
            "\n"
          ]
        }
      ]
    },
    {
      "cell_type": "code",
      "execution_count": null,
      "metadata": {
        "id": "JoTa-OQbj1tI",
        "colab": {
          "base_uri": "https://localhost:8080/"
        },
        "outputId": "a5d17d96-7f3e-4b1d-c64c-360e3608101e"
      },
      "outputs": [
        {
          "output_type": "stream",
          "name": "stdout",
          "text": [
            "root\n",
            " |-- match_id: integer (nullable = true)\n",
            " |-- inning: integer (nullable = true)\n",
            " |-- overs: integer (nullable = true)\n",
            " |-- ball: integer (nullable = true)\n",
            " |-- batsman: string (nullable = true)\n",
            " |-- non_striker: string (nullable = true)\n",
            " |-- bowler: string (nullable = true)\n",
            " |-- batsman_runs: integer (nullable = true)\n",
            " |-- extra_runs: integer (nullable = true)\n",
            " |-- total_runs: integer (nullable = true)\n",
            " |-- non_boundary: integer (nullable = true)\n",
            " |-- is_wicket: integer (nullable = true)\n",
            " |-- dismissal_kind: string (nullable = true)\n",
            " |-- player_dismissed: string (nullable = true)\n",
            " |-- fielder: string (nullable = true)\n",
            " |-- extras_type: string (nullable = true)\n",
            " |-- batting_team: string (nullable = true)\n",
            " |-- bowling_team: string (nullable = true)\n",
            "\n"
          ]
        }
      ],
      "source": [
        "df1.printSchema() "
      ]
    },
    {
      "cell_type": "code",
      "source": [
        "from pyspark.sql.functions import isnan, when, count, col\n",
        "df1.select([count(when(isnan(c) | col(c).isNull(), c)).alias(c) for c in df1.columns]).show(vertical=True)\n"
      ],
      "metadata": {
        "id": "dqzy7yFd4nba",
        "colab": {
          "base_uri": "https://localhost:8080/"
        },
        "outputId": "8da919e3-224f-4c9b-8c6b-17e682538fbd"
      },
      "execution_count": null,
      "outputs": [
        {
          "output_type": "stream",
          "name": "stdout",
          "text": [
            "-RECORD 0---------------\n",
            " match_id         | 0   \n",
            " inning           | 0   \n",
            " overs            | 0   \n",
            " ball             | 0   \n",
            " batsman          | 0   \n",
            " non_striker      | 0   \n",
            " bowler           | 0   \n",
            " batsman_runs     | 0   \n",
            " extra_runs       | 0   \n",
            " total_runs       | 0   \n",
            " non_boundary     | 0   \n",
            " is_wicket        | 0   \n",
            " dismissal_kind   | 0   \n",
            " player_dismissed | 0   \n",
            " fielder          | 0   \n",
            " extras_type      | 0   \n",
            " batting_team     | 0   \n",
            " bowling_team     | 0   \n",
            "\n"
          ]
        }
      ]
    },
    {
      "cell_type": "code",
      "execution_count": null,
      "metadata": {
        "id": "QWt7s2OckHTM",
        "colab": {
          "base_uri": "https://localhost:8080/"
        },
        "outputId": "bff77bd4-66d2-4921-fe07-c4904de0b4ee"
      },
      "outputs": [
        {
          "output_type": "stream",
          "name": "stdout",
          "text": [
            "+--------+----------+---------------+--------+-------------+--------------------+--------------------+--------------------+-------------+--------------------+-------+-------------+----------+------+-----------+--------------+\n",
            "|match_id|      date|player_of_match|venue_id|neutral_venue|               team1|               team2|         toss_winner|toss_decision|              winner| result|result_margin|eliminator|method|    umpire1|       umpire2|\n",
            "+--------+----------+---------------+--------+-------------+--------------------+--------------------+--------------------+-------------+--------------------+-------+-------------+----------+------+-----------+--------------+\n",
            "|  335982|2008-04-18|    BB McCullum|      35|            0|Royal Challengers...|Kolkata Knight Ri...|Royal Challengers...|        field|Kolkata Knight Ri...|   runs|          140|         N|    NA|  Asad Rauf|   RE Koertzen|\n",
            "|  335983|2008-04-19|     MEK Hussey|      31|            0|     Kings XI Punjab| Chennai Super Kings| Chennai Super Kings|          bat| Chennai Super Kings|   runs|           33|         N|    NA|  MR Benson|    SL Shastri|\n",
            "|  335984|2008-04-19|    MF Maharoof|      27|            0|    Delhi Daredevils|    Rajasthan Royals|    Rajasthan Royals|          bat|    Delhi Daredevils|wickets|            9|         N|    NA|  Aleem Dar|GA Pratapkumar|\n",
            "|  335985|2008-04-20|     MV Boucher|      14|            0|      Mumbai Indians|Royal Challengers...|      Mumbai Indians|          bat|Royal Challengers...|wickets|            5|         N|    NA|   SJ Davis|     DJ Harper|\n",
            "|  335986|2008-04-20|      DJ Hussey|      15|            0|Kolkata Knight Ri...|     Deccan Chargers|     Deccan Chargers|          bat|Kolkata Knight Ri...|wickets|            5|         N|    NA|  BF Bowden|   K Hariharan|\n",
            "|  335987|2008-04-21|      SR Watson|      20|            0|    Rajasthan Royals|     Kings XI Punjab|     Kings XI Punjab|          bat|    Rajasthan Royals|wickets|            6|         N|    NA|  Aleem Dar|     RB Tiffin|\n",
            "|  335988|2008-04-22|       V Sehwag|      22|            0|     Deccan Chargers|    Delhi Daredevils|     Deccan Chargers|          bat|    Delhi Daredevils|wickets|            9|         N|    NA|  IL Howell|     AM Saheba|\n",
            "|  335989|2008-04-23|      ML Hayden|      29|            0| Chennai Super Kings|      Mumbai Indians|      Mumbai Indians|        field| Chennai Super Kings|   runs|            6|         N|    NA|  DJ Harper|GA Pratapkumar|\n",
            "|  335990|2008-04-24|      YK Pathan|      22|            0|     Deccan Chargers|    Rajasthan Royals|    Rajasthan Royals|        field|    Rajasthan Royals|wickets|            3|         N|    NA|  Asad Rauf|     MR Benson|\n",
            "|  335991|2008-04-25|  KC Sangakkara|      31|            0|     Kings XI Punjab|      Mumbai Indians|      Mumbai Indians|        field|     Kings XI Punjab|   runs|           66|         N|    NA|  Aleem Dar|     AM Saheba|\n",
            "|  335992|2008-04-26|      SR Watson|      35|            0|Royal Challengers...|    Rajasthan Royals|    Rajasthan Royals|        field|    Rajasthan Royals|wickets|            7|         N|    NA|  MR Benson|     IL Howell|\n",
            "|  335993|2008-04-26|       JDP Oram|      29|            0| Chennai Super Kings|Kolkata Knight Ri...|Kolkata Knight Ri...|          bat| Chennai Super Kings|wickets|            9|         N|    NA|  BF Bowden|AV Jayaprakash|\n",
            "|  335994|2008-04-27|   AC Gilchrist|      13|            0|      Mumbai Indians|     Deccan Chargers|     Deccan Chargers|        field|     Deccan Chargers|wickets|           10|         N|    NA|  Asad Rauf|    SL Shastri|\n",
            "|  335995|2008-04-27|      SM Katich|      31|            0|     Kings XI Punjab|    Delhi Daredevils|    Delhi Daredevils|          bat|     Kings XI Punjab|wickets|            4|         N|    NA|RE Koertzen|     I Shivram|\n",
            "|  335996|2008-04-28|       MS Dhoni|      35|            0|Royal Challengers...| Chennai Super Kings| Chennai Super Kings|          bat| Chennai Super Kings|   runs|           13|         N|    NA|BR Doctrove|     RB Tiffin|\n",
            "|  335997|2008-04-29|  ST Jayasuriya|      15|            0|Kolkata Knight Ri...|      Mumbai Indians|Kolkata Knight Ri...|          bat|      Mumbai Indians|wickets|            7|         N|    NA|  BF Bowden|AV Jayaprakash|\n",
            "|  335998|2008-04-30|     GD McGrath|      27|            0|    Delhi Daredevils|Royal Challengers...|Royal Challengers...|        field|    Delhi Daredevils|   runs|           10|         N|    NA|  Aleem Dar|     I Shivram|\n",
            "|  335999|2008-05-01|       SE Marsh|      22|            0|     Deccan Chargers|     Kings XI Punjab|     Kings XI Punjab|        field|     Kings XI Punjab|wickets|            7|         N|    NA|BR Doctrove|     RB Tiffin|\n",
            "|  336000|2008-05-01|    SA Asnodkar|      20|            0|    Rajasthan Royals|Kolkata Knight Ri...|    Rajasthan Royals|          bat|    Rajasthan Royals|   runs|           45|         N|    NA|RE Koertzen|GA Pratapkumar|\n",
            "|  336001|2008-05-02|       V Sehwag|      29|            0| Chennai Super Kings|    Delhi Daredevils| Chennai Super Kings|          bat|    Delhi Daredevils|wickets|            8|         N|    NA|  BF Bowden|   K Hariharan|\n",
            "+--------+----------+---------------+--------+-------------+--------------------+--------------------+--------------------+-------------+--------------------+-------+-------------+----------+------+-----------+--------------+\n",
            "only showing top 20 rows\n",
            "\n"
          ]
        }
      ],
      "source": [
        "df2 = spark.read.load(\"/content/ipl_matches.csv\",\n",
        "                     format=\"csv\", inferSchema=\"true\", header=\"true\")\n",
        "df2.show()"
      ]
    },
    {
      "cell_type": "code",
      "source": [
        "from pyspark.sql.functions import isnan, when, count, col\n",
        "df2.select([count(when(isnan(c) | col(c).isNull(), c)).alias(c) for c in df2.columns]).show(vertical=True)\n"
      ],
      "metadata": {
        "id": "88FlvxUh5TUm",
        "colab": {
          "base_uri": "https://localhost:8080/"
        },
        "outputId": "61c6bed4-6448-44a7-8f2b-83c83ca7dcb2"
      },
      "execution_count": null,
      "outputs": [
        {
          "output_type": "stream",
          "name": "stdout",
          "text": [
            "-RECORD 0--------------\n",
            " match_id        | 0   \n",
            " date            | 0   \n",
            " player_of_match | 0   \n",
            " venue_id        | 0   \n",
            " neutral_venue   | 0   \n",
            " team1           | 0   \n",
            " team2           | 0   \n",
            " toss_winner     | 0   \n",
            " toss_decision   | 0   \n",
            " winner          | 0   \n",
            " result          | 0   \n",
            " result_margin   | 0   \n",
            " eliminator      | 0   \n",
            " method          | 0   \n",
            " umpire1         | 0   \n",
            " umpire2         | 0   \n",
            "\n"
          ]
        }
      ]
    },
    {
      "cell_type": "code",
      "execution_count": null,
      "metadata": {
        "id": "zOm20If0GKEL"
      },
      "outputs": [],
      "source": [
        "df2 = df2 \\\n",
        "  .withColumn(\"result_margin\" ,\n",
        "              df2[\"result_margin\"]\n",
        "              .cast(\"int\"))   \\\n",
        "  .withColumn(\"date\",\n",
        "              df2[\"date\"]\n",
        "              .cast(\"timestamp\"))"
      ]
    },
    {
      "cell_type": "code",
      "source": [
        "df2.show(vertical=True)\n"
      ],
      "metadata": {
        "id": "bAyGFZo44L9f",
        "colab": {
          "base_uri": "https://localhost:8080/"
        },
        "outputId": "a61515bb-9cd3-401e-d452-e58590a88564"
      },
      "execution_count": null,
      "outputs": [
        {
          "output_type": "stream",
          "name": "stdout",
          "text": [
            "-RECORD 0-------------------------------\n",
            " match_id        | 335982               \n",
            " date            | 2008-04-18 00:00:00  \n",
            " player_of_match | BB McCullum          \n",
            " venue_id        | 35                   \n",
            " neutral_venue   | 0                    \n",
            " team1           | Royal Challengers... \n",
            " team2           | Kolkata Knight Ri... \n",
            " toss_winner     | Royal Challengers... \n",
            " toss_decision   | field                \n",
            " winner          | Kolkata Knight Ri... \n",
            " result          | runs                 \n",
            " result_margin   | 140                  \n",
            " eliminator      | N                    \n",
            " method          | NA                   \n",
            " umpire1         | Asad Rauf            \n",
            " umpire2         | RE Koertzen          \n",
            "-RECORD 1-------------------------------\n",
            " match_id        | 335983               \n",
            " date            | 2008-04-19 00:00:00  \n",
            " player_of_match | MEK Hussey           \n",
            " venue_id        | 31                   \n",
            " neutral_venue   | 0                    \n",
            " team1           | Kings XI Punjab      \n",
            " team2           | Chennai Super Kings  \n",
            " toss_winner     | Chennai Super Kings  \n",
            " toss_decision   | bat                  \n",
            " winner          | Chennai Super Kings  \n",
            " result          | runs                 \n",
            " result_margin   | 33                   \n",
            " eliminator      | N                    \n",
            " method          | NA                   \n",
            " umpire1         | MR Benson            \n",
            " umpire2         | SL Shastri           \n",
            "-RECORD 2-------------------------------\n",
            " match_id        | 335984               \n",
            " date            | 2008-04-19 00:00:00  \n",
            " player_of_match | MF Maharoof          \n",
            " venue_id        | 27                   \n",
            " neutral_venue   | 0                    \n",
            " team1           | Delhi Daredevils     \n",
            " team2           | Rajasthan Royals     \n",
            " toss_winner     | Rajasthan Royals     \n",
            " toss_decision   | bat                  \n",
            " winner          | Delhi Daredevils     \n",
            " result          | wickets              \n",
            " result_margin   | 9                    \n",
            " eliminator      | N                    \n",
            " method          | NA                   \n",
            " umpire1         | Aleem Dar            \n",
            " umpire2         | GA Pratapkumar       \n",
            "-RECORD 3-------------------------------\n",
            " match_id        | 335985               \n",
            " date            | 2008-04-20 00:00:00  \n",
            " player_of_match | MV Boucher           \n",
            " venue_id        | 14                   \n",
            " neutral_venue   | 0                    \n",
            " team1           | Mumbai Indians       \n",
            " team2           | Royal Challengers... \n",
            " toss_winner     | Mumbai Indians       \n",
            " toss_decision   | bat                  \n",
            " winner          | Royal Challengers... \n",
            " result          | wickets              \n",
            " result_margin   | 5                    \n",
            " eliminator      | N                    \n",
            " method          | NA                   \n",
            " umpire1         | SJ Davis             \n",
            " umpire2         | DJ Harper            \n",
            "-RECORD 4-------------------------------\n",
            " match_id        | 335986               \n",
            " date            | 2008-04-20 00:00:00  \n",
            " player_of_match | DJ Hussey            \n",
            " venue_id        | 15                   \n",
            " neutral_venue   | 0                    \n",
            " team1           | Kolkata Knight Ri... \n",
            " team2           | Deccan Chargers      \n",
            " toss_winner     | Deccan Chargers      \n",
            " toss_decision   | bat                  \n",
            " winner          | Kolkata Knight Ri... \n",
            " result          | wickets              \n",
            " result_margin   | 5                    \n",
            " eliminator      | N                    \n",
            " method          | NA                   \n",
            " umpire1         | BF Bowden            \n",
            " umpire2         | K Hariharan          \n",
            "-RECORD 5-------------------------------\n",
            " match_id        | 335987               \n",
            " date            | 2008-04-21 00:00:00  \n",
            " player_of_match | SR Watson            \n",
            " venue_id        | 20                   \n",
            " neutral_venue   | 0                    \n",
            " team1           | Rajasthan Royals     \n",
            " team2           | Kings XI Punjab      \n",
            " toss_winner     | Kings XI Punjab      \n",
            " toss_decision   | bat                  \n",
            " winner          | Rajasthan Royals     \n",
            " result          | wickets              \n",
            " result_margin   | 6                    \n",
            " eliminator      | N                    \n",
            " method          | NA                   \n",
            " umpire1         | Aleem Dar            \n",
            " umpire2         | RB Tiffin            \n",
            "-RECORD 6-------------------------------\n",
            " match_id        | 335988               \n",
            " date            | 2008-04-22 00:00:00  \n",
            " player_of_match | V Sehwag             \n",
            " venue_id        | 22                   \n",
            " neutral_venue   | 0                    \n",
            " team1           | Deccan Chargers      \n",
            " team2           | Delhi Daredevils     \n",
            " toss_winner     | Deccan Chargers      \n",
            " toss_decision   | bat                  \n",
            " winner          | Delhi Daredevils     \n",
            " result          | wickets              \n",
            " result_margin   | 9                    \n",
            " eliminator      | N                    \n",
            " method          | NA                   \n",
            " umpire1         | IL Howell            \n",
            " umpire2         | AM Saheba            \n",
            "-RECORD 7-------------------------------\n",
            " match_id        | 335989               \n",
            " date            | 2008-04-23 00:00:00  \n",
            " player_of_match | ML Hayden            \n",
            " venue_id        | 29                   \n",
            " neutral_venue   | 0                    \n",
            " team1           | Chennai Super Kings  \n",
            " team2           | Mumbai Indians       \n",
            " toss_winner     | Mumbai Indians       \n",
            " toss_decision   | field                \n",
            " winner          | Chennai Super Kings  \n",
            " result          | runs                 \n",
            " result_margin   | 6                    \n",
            " eliminator      | N                    \n",
            " method          | NA                   \n",
            " umpire1         | DJ Harper            \n",
            " umpire2         | GA Pratapkumar       \n",
            "-RECORD 8-------------------------------\n",
            " match_id        | 335990               \n",
            " date            | 2008-04-24 00:00:00  \n",
            " player_of_match | YK Pathan            \n",
            " venue_id        | 22                   \n",
            " neutral_venue   | 0                    \n",
            " team1           | Deccan Chargers      \n",
            " team2           | Rajasthan Royals     \n",
            " toss_winner     | Rajasthan Royals     \n",
            " toss_decision   | field                \n",
            " winner          | Rajasthan Royals     \n",
            " result          | wickets              \n",
            " result_margin   | 3                    \n",
            " eliminator      | N                    \n",
            " method          | NA                   \n",
            " umpire1         | Asad Rauf            \n",
            " umpire2         | MR Benson            \n",
            "-RECORD 9-------------------------------\n",
            " match_id        | 335991               \n",
            " date            | 2008-04-25 00:00:00  \n",
            " player_of_match | KC Sangakkara        \n",
            " venue_id        | 31                   \n",
            " neutral_venue   | 0                    \n",
            " team1           | Kings XI Punjab      \n",
            " team2           | Mumbai Indians       \n",
            " toss_winner     | Mumbai Indians       \n",
            " toss_decision   | field                \n",
            " winner          | Kings XI Punjab      \n",
            " result          | runs                 \n",
            " result_margin   | 66                   \n",
            " eliminator      | N                    \n",
            " method          | NA                   \n",
            " umpire1         | Aleem Dar            \n",
            " umpire2         | AM Saheba            \n",
            "-RECORD 10------------------------------\n",
            " match_id        | 335992               \n",
            " date            | 2008-04-26 00:00:00  \n",
            " player_of_match | SR Watson            \n",
            " venue_id        | 35                   \n",
            " neutral_venue   | 0                    \n",
            " team1           | Royal Challengers... \n",
            " team2           | Rajasthan Royals     \n",
            " toss_winner     | Rajasthan Royals     \n",
            " toss_decision   | field                \n",
            " winner          | Rajasthan Royals     \n",
            " result          | wickets              \n",
            " result_margin   | 7                    \n",
            " eliminator      | N                    \n",
            " method          | NA                   \n",
            " umpire1         | MR Benson            \n",
            " umpire2         | IL Howell            \n",
            "-RECORD 11------------------------------\n",
            " match_id        | 335993               \n",
            " date            | 2008-04-26 00:00:00  \n",
            " player_of_match | JDP Oram             \n",
            " venue_id        | 29                   \n",
            " neutral_venue   | 0                    \n",
            " team1           | Chennai Super Kings  \n",
            " team2           | Kolkata Knight Ri... \n",
            " toss_winner     | Kolkata Knight Ri... \n",
            " toss_decision   | bat                  \n",
            " winner          | Chennai Super Kings  \n",
            " result          | wickets              \n",
            " result_margin   | 9                    \n",
            " eliminator      | N                    \n",
            " method          | NA                   \n",
            " umpire1         | BF Bowden            \n",
            " umpire2         | AV Jayaprakash       \n",
            "-RECORD 12------------------------------\n",
            " match_id        | 335994               \n",
            " date            | 2008-04-27 00:00:00  \n",
            " player_of_match | AC Gilchrist         \n",
            " venue_id        | 13                   \n",
            " neutral_venue   | 0                    \n",
            " team1           | Mumbai Indians       \n",
            " team2           | Deccan Chargers      \n",
            " toss_winner     | Deccan Chargers      \n",
            " toss_decision   | field                \n",
            " winner          | Deccan Chargers      \n",
            " result          | wickets              \n",
            " result_margin   | 10                   \n",
            " eliminator      | N                    \n",
            " method          | NA                   \n",
            " umpire1         | Asad Rauf            \n",
            " umpire2         | SL Shastri           \n",
            "-RECORD 13------------------------------\n",
            " match_id        | 335995               \n",
            " date            | 2008-04-27 00:00:00  \n",
            " player_of_match | SM Katich            \n",
            " venue_id        | 31                   \n",
            " neutral_venue   | 0                    \n",
            " team1           | Kings XI Punjab      \n",
            " team2           | Delhi Daredevils     \n",
            " toss_winner     | Delhi Daredevils     \n",
            " toss_decision   | bat                  \n",
            " winner          | Kings XI Punjab      \n",
            " result          | wickets              \n",
            " result_margin   | 4                    \n",
            " eliminator      | N                    \n",
            " method          | NA                   \n",
            " umpire1         | RE Koertzen          \n",
            " umpire2         | I Shivram            \n",
            "-RECORD 14------------------------------\n",
            " match_id        | 335996               \n",
            " date            | 2008-04-28 00:00:00  \n",
            " player_of_match | MS Dhoni             \n",
            " venue_id        | 35                   \n",
            " neutral_venue   | 0                    \n",
            " team1           | Royal Challengers... \n",
            " team2           | Chennai Super Kings  \n",
            " toss_winner     | Chennai Super Kings  \n",
            " toss_decision   | bat                  \n",
            " winner          | Chennai Super Kings  \n",
            " result          | runs                 \n",
            " result_margin   | 13                   \n",
            " eliminator      | N                    \n",
            " method          | NA                   \n",
            " umpire1         | BR Doctrove          \n",
            " umpire2         | RB Tiffin            \n",
            "-RECORD 15------------------------------\n",
            " match_id        | 335997               \n",
            " date            | 2008-04-29 00:00:00  \n",
            " player_of_match | ST Jayasuriya        \n",
            " venue_id        | 15                   \n",
            " neutral_venue   | 0                    \n",
            " team1           | Kolkata Knight Ri... \n",
            " team2           | Mumbai Indians       \n",
            " toss_winner     | Kolkata Knight Ri... \n",
            " toss_decision   | bat                  \n",
            " winner          | Mumbai Indians       \n",
            " result          | wickets              \n",
            " result_margin   | 7                    \n",
            " eliminator      | N                    \n",
            " method          | NA                   \n",
            " umpire1         | BF Bowden            \n",
            " umpire2         | AV Jayaprakash       \n",
            "-RECORD 16------------------------------\n",
            " match_id        | 335998               \n",
            " date            | 2008-04-30 00:00:00  \n",
            " player_of_match | GD McGrath           \n",
            " venue_id        | 27                   \n",
            " neutral_venue   | 0                    \n",
            " team1           | Delhi Daredevils     \n",
            " team2           | Royal Challengers... \n",
            " toss_winner     | Royal Challengers... \n",
            " toss_decision   | field                \n",
            " winner          | Delhi Daredevils     \n",
            " result          | runs                 \n",
            " result_margin   | 10                   \n",
            " eliminator      | N                    \n",
            " method          | NA                   \n",
            " umpire1         | Aleem Dar            \n",
            " umpire2         | I Shivram            \n",
            "-RECORD 17------------------------------\n",
            " match_id        | 335999               \n",
            " date            | 2008-05-01 00:00:00  \n",
            " player_of_match | SE Marsh             \n",
            " venue_id        | 22                   \n",
            " neutral_venue   | 0                    \n",
            " team1           | Deccan Chargers      \n",
            " team2           | Kings XI Punjab      \n",
            " toss_winner     | Kings XI Punjab      \n",
            " toss_decision   | field                \n",
            " winner          | Kings XI Punjab      \n",
            " result          | wickets              \n",
            " result_margin   | 7                    \n",
            " eliminator      | N                    \n",
            " method          | NA                   \n",
            " umpire1         | BR Doctrove          \n",
            " umpire2         | RB Tiffin            \n",
            "-RECORD 18------------------------------\n",
            " match_id        | 336000               \n",
            " date            | 2008-05-01 00:00:00  \n",
            " player_of_match | SA Asnodkar          \n",
            " venue_id        | 20                   \n",
            " neutral_venue   | 0                    \n",
            " team1           | Rajasthan Royals     \n",
            " team2           | Kolkata Knight Ri... \n",
            " toss_winner     | Rajasthan Royals     \n",
            " toss_decision   | bat                  \n",
            " winner          | Rajasthan Royals     \n",
            " result          | runs                 \n",
            " result_margin   | 45                   \n",
            " eliminator      | N                    \n",
            " method          | NA                   \n",
            " umpire1         | RE Koertzen          \n",
            " umpire2         | GA Pratapkumar       \n",
            "-RECORD 19------------------------------\n",
            " match_id        | 336001               \n",
            " date            | 2008-05-02 00:00:00  \n",
            " player_of_match | V Sehwag             \n",
            " venue_id        | 29                   \n",
            " neutral_venue   | 0                    \n",
            " team1           | Chennai Super Kings  \n",
            " team2           | Delhi Daredevils     \n",
            " toss_winner     | Chennai Super Kings  \n",
            " toss_decision   | bat                  \n",
            " winner          | Delhi Daredevils     \n",
            " result          | wickets              \n",
            " result_margin   | 8                    \n",
            " eliminator      | N                    \n",
            " method          | NA                   \n",
            " umpire1         | BF Bowden            \n",
            " umpire2         | K Hariharan          \n",
            "only showing top 20 rows\n",
            "\n"
          ]
        }
      ]
    },
    {
      "cell_type": "code",
      "execution_count": null,
      "metadata": {
        "id": "TNkjNLfGlJkX",
        "colab": {
          "base_uri": "https://localhost:8080/"
        },
        "outputId": "0c5b6f96-3b76-4ddd-e2ac-8be9366cdb74"
      },
      "outputs": [
        {
          "output_type": "stream",
          "name": "stdout",
          "text": [
            "root\n",
            " |-- match_id: integer (nullable = true)\n",
            " |-- date: timestamp (nullable = true)\n",
            " |-- player_of_match: string (nullable = true)\n",
            " |-- venue_id: integer (nullable = true)\n",
            " |-- neutral_venue: integer (nullable = true)\n",
            " |-- team1: string (nullable = true)\n",
            " |-- team2: string (nullable = true)\n",
            " |-- toss_winner: string (nullable = true)\n",
            " |-- toss_decision: string (nullable = true)\n",
            " |-- winner: string (nullable = true)\n",
            " |-- result: string (nullable = true)\n",
            " |-- result_margin: integer (nullable = true)\n",
            " |-- eliminator: string (nullable = true)\n",
            " |-- method: string (nullable = true)\n",
            " |-- umpire1: string (nullable = true)\n",
            " |-- umpire2: string (nullable = true)\n",
            "\n"
          ]
        }
      ],
      "source": [
        "df2.printSchema() "
      ]
    },
    {
      "cell_type": "code",
      "execution_count": null,
      "metadata": {
        "id": "1J-fHkOalONi",
        "colab": {
          "base_uri": "https://localhost:8080/"
        },
        "outputId": "c0f90c11-6dce-405e-bf98-ea6c69e68ff9"
      },
      "outputs": [
        {
          "output_type": "stream",
          "name": "stdout",
          "text": [
            "+--------+--------------------+--------------+\n",
            "|venue_id|               venue|          city|\n",
            "+--------+--------------------+--------------+\n",
            "|       1|Dr. Y.S. Rajasekh...| Visakhapatnam|\n",
            "|       2|Sharjah Cricket S...|       Sharjah|\n",
            "|       3|JSCA Internationa...|        Ranchi|\n",
            "|       4|Saurashtra Cricke...|        Rajkot|\n",
            "|       5|Shaheed Veer Nara...|        Raipur|\n",
            "|       6|Maharashtra Crick...|          Pune|\n",
            "|       7|Subrata Roy Sahar...|          Pune|\n",
            "|       8|    St George's Park|Port Elizabeth|\n",
            "|       9|Vidarbha Cricket ...|        Nagpur|\n",
            "|      12|   Brabourne Stadium|        Mumbai|\n",
            "|      13|Dr DY Patil Sport...|        Mumbai|\n",
            "|      14|    Wankhede Stadium|        Mumbai|\n",
            "|      15|        Eden Gardens|       Kolkata|\n",
            "|      16|       Nehru Stadium|         Kochi|\n",
            "|      17|De Beers Diamond ...|     Kimberley|\n",
            "|      18|          Green Park|        Kanpur|\n",
            "|      19|New Wanderers Sta...|  Johannesburg|\n",
            "|      20|Sawai Mansingh St...|        Jaipur|\n",
            "|      21|Holkar Cricket St...|        Indore|\n",
            "|      22|Rajiv Gandhi Inte...|     Hyderabad|\n",
            "+--------+--------------------+--------------+\n",
            "only showing top 20 rows\n",
            "\n"
          ]
        }
      ],
      "source": [
        "df3 = spark.read.load(\"/content/ipl_venue.csv\",\n",
        "                     format=\"csv\", inferSchema=\"true\", header=\"true\")\n",
        "df3.show()"
      ]
    },
    {
      "cell_type": "code",
      "source": [
        "df3.show(vertical=True)\n"
      ],
      "metadata": {
        "id": "Ejv_HRP24PS5",
        "colab": {
          "base_uri": "https://localhost:8080/"
        },
        "outputId": "218f1e2a-8872-4a09-f1df-494a7ffbd44b"
      },
      "execution_count": null,
      "outputs": [
        {
          "output_type": "stream",
          "name": "stdout",
          "text": [
            "-RECORD 0------------------------\n",
            " venue_id | 1                    \n",
            " venue    | Dr. Y.S. Rajasekh... \n",
            " city     | Visakhapatnam        \n",
            "-RECORD 1------------------------\n",
            " venue_id | 2                    \n",
            " venue    | Sharjah Cricket S... \n",
            " city     | Sharjah              \n",
            "-RECORD 2------------------------\n",
            " venue_id | 3                    \n",
            " venue    | JSCA Internationa... \n",
            " city     | Ranchi               \n",
            "-RECORD 3------------------------\n",
            " venue_id | 4                    \n",
            " venue    | Saurashtra Cricke... \n",
            " city     | Rajkot               \n",
            "-RECORD 4------------------------\n",
            " venue_id | 5                    \n",
            " venue    | Shaheed Veer Nara... \n",
            " city     | Raipur               \n",
            "-RECORD 5------------------------\n",
            " venue_id | 6                    \n",
            " venue    | Maharashtra Crick... \n",
            " city     | Pune                 \n",
            "-RECORD 6------------------------\n",
            " venue_id | 7                    \n",
            " venue    | Subrata Roy Sahar... \n",
            " city     | Pune                 \n",
            "-RECORD 7------------------------\n",
            " venue_id | 8                    \n",
            " venue    | St George's Park     \n",
            " city     | Port Elizabeth       \n",
            "-RECORD 8------------------------\n",
            " venue_id | 9                    \n",
            " venue    | Vidarbha Cricket ... \n",
            " city     | Nagpur               \n",
            "-RECORD 9------------------------\n",
            " venue_id | 12                   \n",
            " venue    | Brabourne Stadium    \n",
            " city     | Mumbai               \n",
            "-RECORD 10-----------------------\n",
            " venue_id | 13                   \n",
            " venue    | Dr DY Patil Sport... \n",
            " city     | Mumbai               \n",
            "-RECORD 11-----------------------\n",
            " venue_id | 14                   \n",
            " venue    | Wankhede Stadium     \n",
            " city     | Mumbai               \n",
            "-RECORD 12-----------------------\n",
            " venue_id | 15                   \n",
            " venue    | Eden Gardens         \n",
            " city     | Kolkata              \n",
            "-RECORD 13-----------------------\n",
            " venue_id | 16                   \n",
            " venue    | Nehru Stadium        \n",
            " city     | Kochi                \n",
            "-RECORD 14-----------------------\n",
            " venue_id | 17                   \n",
            " venue    | De Beers Diamond ... \n",
            " city     | Kimberley            \n",
            "-RECORD 15-----------------------\n",
            " venue_id | 18                   \n",
            " venue    | Green Park           \n",
            " city     | Kanpur               \n",
            "-RECORD 16-----------------------\n",
            " venue_id | 19                   \n",
            " venue    | New Wanderers Sta... \n",
            " city     | Johannesburg         \n",
            "-RECORD 17-----------------------\n",
            " venue_id | 20                   \n",
            " venue    | Sawai Mansingh St... \n",
            " city     | Jaipur               \n",
            "-RECORD 18-----------------------\n",
            " venue_id | 21                   \n",
            " venue    | Holkar Cricket St... \n",
            " city     | Indore               \n",
            "-RECORD 19-----------------------\n",
            " venue_id | 22                   \n",
            " venue    | Rajiv Gandhi Inte... \n",
            " city     | Hyderabad            \n",
            "only showing top 20 rows\n",
            "\n"
          ]
        }
      ]
    },
    {
      "cell_type": "code",
      "execution_count": null,
      "metadata": {
        "id": "W7HHbTt0mQto",
        "colab": {
          "base_uri": "https://localhost:8080/"
        },
        "outputId": "b5085058-055a-42f6-d6dd-1a968ef9356b"
      },
      "outputs": [
        {
          "output_type": "stream",
          "name": "stdout",
          "text": [
            "root\n",
            " |-- venue_id: integer (nullable = true)\n",
            " |-- venue: string (nullable = true)\n",
            " |-- city: string (nullable = true)\n",
            "\n"
          ]
        }
      ],
      "source": [
        "df3.printSchema()"
      ]
    },
    {
      "cell_type": "code",
      "source": [
        "from pyspark.sql.functions import isnan, when, count, col\n",
        "df3.select([count(when(isnan(c) | col(c).isNull(), c)).alias(c) for c in df3.columns]).show(vertical=True)\n"
      ],
      "metadata": {
        "id": "lSg-r81b4dRs",
        "colab": {
          "base_uri": "https://localhost:8080/"
        },
        "outputId": "28bbc451-19bf-4dc2-bb64-6de2f15c39e1"
      },
      "execution_count": null,
      "outputs": [
        {
          "output_type": "stream",
          "name": "stdout",
          "text": [
            "-RECORD 0-------\n",
            " venue_id | 0   \n",
            " venue    | 0   \n",
            " city     | 0   \n",
            "\n"
          ]
        }
      ]
    },
    {
      "cell_type": "code",
      "execution_count": null,
      "metadata": {
        "id": "7PRKHaFCHADE"
      },
      "outputs": [],
      "source": [
        "df1.createOrReplaceTempView(\"ipl_ball_by_ball\")\n",
        "df2.createOrReplaceTempView(\"ipl_matches\")\n",
        "df3.createOrReplaceTempView(\"ipl_venue\")"
      ]
    },
    {
      "cell_type": "code",
      "execution_count": null,
      "metadata": {
        "id": "Suu7NkwrHP9y",
        "colab": {
          "base_uri": "https://localhost:8080/"
        },
        "outputId": "76610445-7a55-4bed-8d87-211178b950ae"
      },
      "outputs": [
        {
          "output_type": "execute_result",
          "data": {
            "text/plain": [
              "[Table(name='ipl_ball_by_ball', database=None, description=None, tableType='TEMPORARY', isTemporary=True),\n",
              " Table(name='ipl_matches', database=None, description=None, tableType='TEMPORARY', isTemporary=True),\n",
              " Table(name='ipl_venue', database=None, description=None, tableType='TEMPORARY', isTemporary=True)]"
            ]
          },
          "metadata": {},
          "execution_count": 24
        }
      ],
      "source": [
        "spark.catalog.listTables()"
      ]
    },
    {
      "cell_type": "markdown",
      "source": [
        "SECTON-2"
      ],
      "metadata": {
        "id": "hC6YHbu8LdKk"
      }
    },
    {
      "cell_type": "markdown",
      "source": [
        "1"
      ],
      "metadata": {
        "id": "I28XKnOaSZ9j"
      }
    },
    {
      "cell_type": "code",
      "source": [
        "\n",
        "elim=spark.sql(\"select venue_id, count(venue_id) as eliminators from ipl_matches where eliminator='Y' group by venue_id order by eliminators desc;  \").createOrReplaceTempView(\"elim\")"
      ],
      "metadata": {
        "id": "8rcjOA6bhYvJ"
      },
      "execution_count": null,
      "outputs": []
    },
    {
      "cell_type": "code",
      "source": [
        "spark.sql(\"select elim.venue_id, eliminators, venue from elim, ipl_venue where elim.venue_id=ipl_venue.venue_id group by venue, elim.venue_id, eliminators order by eliminators desc limit 3;\").show()"
      ],
      "metadata": {
        "colab": {
          "base_uri": "https://localhost:8080/"
        },
        "id": "18JQytp1gbl-",
        "outputId": "07eedff4-4e88-441e-8b3f-81e57f12baa2"
      },
      "execution_count": null,
      "outputs": [
        {
          "output_type": "stream",
          "name": "stdout",
          "text": [
            "+--------+-----------+--------------------+\n",
            "|venue_id|eliminators|               venue|\n",
            "+--------+-----------+--------------------+\n",
            "|      25|          3|Dubai Internation...|\n",
            "|      38|          2|Sheikh Zayed Stadium|\n",
            "|      27|          1|    Feroz Shah Kotla|\n",
            "+--------+-----------+--------------------+\n",
            "\n"
          ]
        }
      ]
    },
    {
      "cell_type": "markdown",
      "source": [
        "2"
      ],
      "metadata": {
        "id": "ogtGvCzzSbX9"
      }
    },
    {
      "cell_type": "code",
      "source": [
        "\n",
        "spark.sql(\"select  fielder, count(fielder) as total_catches from ipl_ball_by_ball where dismissal_kind='caught' group by fielder order by total_catches desc limit 1;  \").show()"
      ],
      "metadata": {
        "id": "xfeRW8mhJAN6",
        "colab": {
          "base_uri": "https://localhost:8080/"
        },
        "outputId": "68cf3f5c-e578-44b7-9402-3db29c96ccfe"
      },
      "execution_count": null,
      "outputs": [
        {
          "output_type": "stream",
          "name": "stdout",
          "text": [
            "+----------+-------------+\n",
            "|   fielder|total_catches|\n",
            "+----------+-------------+\n",
            "|KD Karthik|          118|\n",
            "+----------+-------------+\n",
            "\n"
          ]
        }
      ]
    },
    {
      "cell_type": "markdown",
      "source": [
        "3"
      ],
      "metadata": {
        "id": "JdzT-FGQSc6m"
      }
    },
    {
      "cell_type": "code",
      "source": [
        "wicket=spark.sql(\"select bowler, count(bowler) as wickets, match_id from ipl_ball_by_ball where is_wicket=1 group by bowler, match_id order by wickets desc; \").createOrReplaceTempView(\"wicket\")"
      ],
      "metadata": {
        "id": "tZJmsubBe9e_"
      },
      "execution_count": null,
      "outputs": []
    },
    {
      "cell_type": "code",
      "source": [
        "spark.sql(\"select bowler, sum(wickets) as wickets from wicket, ipl_matches where method='D/L' group by bowler order by wickets desc;\").show()"
      ],
      "metadata": {
        "colab": {
          "base_uri": "https://localhost:8080/"
        },
        "id": "YIp16J-Uja6S",
        "outputId": "7354db47-6f3b-4905-c0d7-c21a8904762f"
      },
      "execution_count": null,
      "outputs": [
        {
          "output_type": "stream",
          "name": "stdout",
          "text": [
            "+---------------+-------+\n",
            "|         bowler|wickets|\n",
            "+---------------+-------+\n",
            "|     SL Malinga|   3572|\n",
            "|       DJ Bravo|   3325|\n",
            "|       A Mishra|   3211|\n",
            "|      PP Chawla|   3116|\n",
            "|Harbhajan Singh|   3059|\n",
            "|       R Ashwin|   2907|\n",
            "|        B Kumar|   2774|\n",
            "|      SP Narine|   2717|\n",
            "|       UT Yadav|   2603|\n",
            "|  R Vinay Kumar|   2413|\n",
            "|      YS Chahal|   2356|\n",
            "|      RA Jadeja|   2318|\n",
            "|        A Nehra|   2299|\n",
            "|      JJ Bumrah|   2261|\n",
            "|         Z Khan|   2261|\n",
            "| Sandeep Sharma|   2223|\n",
            "|      SR Watson|   2033|\n",
            "|       DW Steyn|   1995|\n",
            "|        P Kumar|   1938|\n",
            "|      MM Sharma|   1900|\n",
            "+---------------+-------+\n",
            "only showing top 20 rows\n",
            "\n"
          ]
        }
      ]
    },
    {
      "cell_type": "markdown",
      "source": [
        "4"
      ],
      "metadata": {
        "id": "iAVajaQPSely"
      }
    },
    {
      "cell_type": "code",
      "source": [
        "spark.sql(\"select overs,batsman, (sum(batsman_runs)/count(batsman_runs))*100 as Strike_rate from ipl_ball_by_ball where overs>7 and overs<20 group by batsman, overs;\").show()\n"
      ],
      "metadata": {
        "id": "HnWRpfpbxXd2",
        "colab": {
          "base_uri": "https://localhost:8080/"
        },
        "outputId": "99753e1c-73df-4264-f1e5-4e979de8b521"
      },
      "execution_count": null,
      "outputs": [
        {
          "output_type": "stream",
          "name": "stdout",
          "text": [
            "+-----+---------------+------------------+\n",
            "|overs|        batsman|       Strike_rate|\n",
            "+-----+---------------+------------------+\n",
            "|   18|    DS Kulkarni| 97.05882352941177|\n",
            "|   13|Harbhajan Singh| 91.42857142857143|\n",
            "|   13|      R Tewatia| 86.95652173913044|\n",
            "|   16|      V Shankar|             142.5|\n",
            "|   14|      SPD Smith|127.64227642276423|\n",
            "|   12|  Anureet Singh|             100.0|\n",
            "|   17|       MR Marsh|172.22222222222223|\n",
            "|   19|  TM Srivastava|              50.0|\n",
            "|   15|  KW Richardson|             100.0|\n",
            "|   19|     I Malhotra|             200.0|\n",
            "|   18|     WPUJC Vaas|  92.3076923076923|\n",
            "|   10|    T Henderson|               0.0|\n",
            "|   19|   S Lamichhane|               0.0|\n",
            "|   12|      R Rampaul|             100.0|\n",
            "|   12|      DR Martyn|              75.0|\n",
            "|   15|        M Vohra|             260.0|\n",
            "|   12|    YBK Jaiswal|               0.0|\n",
            "|    8|    S Badrinath| 139.4736842105263|\n",
            "|   15|      RS Bopara|203.84615384615384|\n",
            "|   17|        M Vijay|             190.0|\n",
            "+-----+---------------+------------------+\n",
            "only showing top 20 rows\n",
            "\n"
          ]
        }
      ]
    },
    {
      "cell_type": "markdown",
      "source": [
        "5"
      ],
      "metadata": {
        "id": "V7ihKItCSgAC"
      }
    },
    {
      "cell_type": "code",
      "source": [
        "match= spark.sql(\"select match_id, sum(extra_runs) as extra_runs from ipl_ball_by_ball group by(match_id) order by extra_runs desc;\").createOrReplaceTempView(\"match\")"
      ],
      "metadata": {
        "id": "hcmfl86KJopn"
      },
      "execution_count": null,
      "outputs": []
    },
    {
      "cell_type": "code",
      "source": [
        "\n",
        "temp=spark.sql(\"select * from match, ipl_matches where match.match_id=ipl_matches.match_id;\").createOrReplaceTempView(\"temp\")"
      ],
      "metadata": {
        "id": "7Cjz_Rl6Lfj-"
      },
      "execution_count": null,
      "outputs": []
    },
    {
      "cell_type": "code",
      "source": [
        "\n",
        "spark.sql(\"select temp.venue_id, venue, sum(extra_runs) from temp, ipl_venue where temp.venue_id=ipl_venue.venue_id group by temp.venue_id, venue order by sum(extra_runs) desc limit 1;\").show()"
      ],
      "metadata": {
        "colab": {
          "base_uri": "https://localhost:8080/"
        },
        "id": "vVDj_NT_MZqk",
        "outputId": "9f2fc5ea-9e43-4777-a312-dd90fff738ce"
      },
      "execution_count": null,
      "outputs": [
        {
          "output_type": "stream",
          "name": "stdout",
          "text": [
            "+--------+--------------------+---------------+\n",
            "|venue_id|               venue|sum(extra_runs)|\n",
            "+--------+--------------------+---------------+\n",
            "|      35|M.Chinnaswamy Sta...|           1355|\n",
            "+--------+--------------------+---------------+\n",
            "\n"
          ]
        }
      ]
    },
    {
      "cell_type": "markdown",
      "source": [
        "6"
      ],
      "metadata": {
        "id": "1H5tKhpmSmx2"
      }
    },
    {
      "cell_type": "code",
      "source": [
        "spark.sql(\"select player_of_match, count(player_of_match) from ipl_matches where neutral_venue>0 group by player_of_match order by count(player_of_match) desc;\").show()"
      ],
      "metadata": {
        "id": "SjuaElVNN2YB",
        "colab": {
          "base_uri": "https://localhost:8080/"
        },
        "outputId": "0f7823e5-9df5-4b55-ad85-cba6afed90cf"
      },
      "execution_count": null,
      "outputs": [
        {
          "output_type": "stream",
          "name": "stdout",
          "text": [
            "+----------------+----------------------+\n",
            "| player_of_match|count(player_of_match)|\n",
            "+----------------+----------------------+\n",
            "|      GJ Maxwell|                     3|\n",
            "|       JP Duminy|                     3|\n",
            "|       JH Kallis|                     3|\n",
            "|       YK Pathan|                     3|\n",
            "|    Yuvraj Singh|                     2|\n",
            "|  AB de Villiers|                     2|\n",
            "|  Sandeep Sharma|                     2|\n",
            "|    SR Tendulkar|                     2|\n",
            "|       RG Sharma|                     2|\n",
            "|        SK Raina|                     2|\n",
            "|     LRPL Taylor|                     2|\n",
            "|       ML Hayden|                     2|\n",
            "|DPMD Jayawardene|                     2|\n",
            "|        DR Smith|                     2|\n",
            "|   KC Sangakkara|                     2|\n",
            "|  M Muralitharan|                     2|\n",
            "|       MK Pandey|                     2|\n",
            "|    AC Gilchrist|                     2|\n",
            "|     S Badrinath|                     1|\n",
            "|        R Dravid|                     1|\n",
            "+----------------+----------------------+\n",
            "only showing top 20 rows\n",
            "\n"
          ]
        }
      ]
    },
    {
      "cell_type": "markdown",
      "source": [
        "7"
      ],
      "metadata": {
        "id": "YSuKRregSq4L"
      }
    },
    {
      "cell_type": "code",
      "source": [
        "\n",
        "spark.sql(\"select Batsman_, sum(batsman_runs)/count(player_dismissed) as Average from((select batsman as Batsman_,batsman_runs,player_dismissed from ipl_ball_by_ball) union all (select non_striker as Batsman_,batsman_runs,player_dismissed from ipl_ball_by_ball)) group by Batsman_ order by Average desc limit 10;\").show()"
      ],
      "metadata": {
        "id": "NSQAWRbbGeub",
        "colab": {
          "base_uri": "https://localhost:8080/"
        },
        "outputId": "66c22374-de3f-4fd1-9220-43f3a4de406e"
      },
      "execution_count": null,
      "outputs": [
        {
          "output_type": "stream",
          "name": "stdout",
          "text": [
            "+-------------+------------------+\n",
            "|     Batsman_|           Average|\n",
            "+-------------+------------------+\n",
            "|        A Nel| 4.333333333333333|\n",
            "|  C Ganapathy|               4.0|\n",
            "|BW Hilfenhaus|               4.0|\n",
            "|    AS Joseph| 2.292682926829268|\n",
            "| BE Hendricks|2.2142857142857144|\n",
            "|     RS Sodhi|               2.2|\n",
            "|    VRV Singh|               2.2|\n",
            "|     Umar Gul| 2.161290322580645|\n",
            "|      SB Wagh|               2.0|\n",
            "|NJ Rimmington|               2.0|\n",
            "+-------------+------------------+\n",
            "\n"
          ]
        }
      ]
    },
    {
      "cell_type": "markdown",
      "source": [
        "8"
      ],
      "metadata": {
        "id": "jcrbwr87StqZ"
      }
    },
    {
      "cell_type": "code",
      "source": [
        "spark.sql(\"select umpire, count(*) from ((select umpire1 as umpire from ipl_matches) union all (select umpire2 from ipl_matches)) ipl_matches group by umpire order by count(*) desc;\").show() "
      ],
      "metadata": {
        "id": "4AlepXQdIMqf",
        "colab": {
          "base_uri": "https://localhost:8080/"
        },
        "outputId": "3f60c9fd-2acd-47ff-f27b-ff91a7b7b6de"
      },
      "execution_count": null,
      "outputs": [
        {
          "output_type": "stream",
          "name": "stdout",
          "text": [
            "+--------------------+--------+\n",
            "|              umpire|count(1)|\n",
            "+--------------------+--------+\n",
            "|              S Ravi|     121|\n",
            "|     HDPK Dharmasena|      94|\n",
            "|        AK Chaudhary|      87|\n",
            "|       C Shamshuddin|      82|\n",
            "|           M Erasmus|      65|\n",
            "|         Nitin Menon|      57|\n",
            "|           CK Nandan|      57|\n",
            "|          SJA Taufel|      55|\n",
            "|           Asad Rauf|      51|\n",
            "|         VA Kulkarni|      50|\n",
            "|        BNJ Oxenford|      48|\n",
            "|         CB Gaffaney|      47|\n",
            "|           RJ Tucker|      46|\n",
            "|         BR Doctrove|      42|\n",
            "|         RE Koertzen|      41|\n",
            "|           Aleem Dar|      38|\n",
            "|           BF Bowden|      37|\n",
            "|            NJ Llong|      37|\n",
            "|KN Ananthapadmana...|      33|\n",
            "|      RK Illingworth|      31|\n",
            "+--------------------+--------+\n",
            "only showing top 20 rows\n",
            "\n"
          ]
        }
      ]
    },
    {
      "cell_type": "markdown",
      "source": [
        "9"
      ],
      "metadata": {
        "id": "XelrcIvBSVIn"
      }
    },
    {
      "cell_type": "code",
      "source": [
        "\n",
        "v_kohli=spark.sql(\"select match_id, sum(batsman_runs) as batsman_runs from ipl_ball_by_ball where batsman='V Kohli' group by match_id order by batsman_runs desc limit 1;\").createOrReplaceTempView(\"v_kohli\")"
      ],
      "metadata": {
        "id": "1mJKZClkWlXQ"
      },
      "execution_count": null,
      "outputs": []
    },
    {
      "cell_type": "code",
      "source": [
        "tempe=spark.sql(\"select * from v_kohli, ipl_matches where v_kohli.match_id=ipl_matches.match_id; \").createOrReplaceTempView(\"tempe\")"
      ],
      "metadata": {
        "id": "iSXIL5q3ZmnE"
      },
      "execution_count": null,
      "outputs": []
    },
    {
      "cell_type": "code",
      "source": [
        "spark.sql(\"select v_kohli.match_id, tempe.batsman_runs, venue, city from v_kohli, tempe, ipl_venue where tempe.venue_id=ipl_venue.venue_id group by v_kohli.match_id, tempe.batsman_runs, venue, city order by batsman_runs desc;\" ).show()"
      ],
      "metadata": {
        "colab": {
          "base_uri": "https://localhost:8080/"
        },
        "id": "G3qEzelvY2hY",
        "outputId": "37f9335c-099e-40eb-a607-5bab6358b536"
      },
      "execution_count": null,
      "outputs": [
        {
          "output_type": "stream",
          "name": "stdout",
          "text": [
            "+--------+------------+--------------------+---------+\n",
            "|match_id|batsman_runs|               venue|     city|\n",
            "+--------+------------+--------------------+---------+\n",
            "|  980999|         113|M.Chinnaswamy Sta...|Bengaluru|\n",
            "+--------+------------+--------------------+---------+\n",
            "\n"
          ]
        }
      ]
    },
    {
      "cell_type": "markdown",
      "source": [
        "10"
      ],
      "metadata": {
        "id": "OjEnZ0J4SR_E"
      }
    },
    {
      "cell_type": "code",
      "source": [
        "\n",
        "not_winner=spark.sql(\"select toss_winner, winner,COUNT(*) as not_win from ipl_matches where toss_winner!=winner group by toss_winner, winner;\").createOrReplaceTempView(\"not_winner\")"
      ],
      "metadata": {
        "id": "z1Ezk_M26obL"
      },
      "execution_count": null,
      "outputs": []
    },
    {
      "cell_type": "code",
      "source": [
        "spark.sql(\"select sum(not_win) from not_winner;\").show()"
      ],
      "metadata": {
        "colab": {
          "base_uri": "https://localhost:8080/"
        },
        "id": "SEW3eXNT8_ry",
        "outputId": "f56bb9e6-9caa-430e-9aa3-4b2af3a9cf39"
      },
      "execution_count": null,
      "outputs": [
        {
          "output_type": "stream",
          "name": "stdout",
          "text": [
            "+------------+\n",
            "|sum(not_win)|\n",
            "+------------+\n",
            "|         398|\n",
            "+------------+\n",
            "\n"
          ]
        }
      ]
    },
    {
      "cell_type": "code",
      "source": [
        "\n",
        "winners=spark.sql(\"select toss_winner, winner,COUNT(*) as win from ipl_matches where toss_winner==winner group by toss_winner, winner;\").createOrReplaceTempView(\"winners\")"
      ],
      "metadata": {
        "id": "5ohxfzjxdK7E"
      },
      "execution_count": null,
      "outputs": []
    },
    {
      "cell_type": "code",
      "source": [
        "spark.sql(\"select sum(win) from winners;\").show()\n",
        "\n",
        "# clearly from above two queries, the who wons the toss has a high probability of winning the match as well as compared to the team who doesn't win the toss"
      ],
      "metadata": {
        "colab": {
          "base_uri": "https://localhost:8080/"
        },
        "id": "ubvZ3kCQ7aM9",
        "outputId": "0c3a52a9-f7e6-4e0a-dd53-6be004d6d836"
      },
      "execution_count": null,
      "outputs": [
        {
          "output_type": "stream",
          "name": "stdout",
          "text": [
            "+--------+\n",
            "|sum(win)|\n",
            "+--------+\n",
            "|     418|\n",
            "+--------+\n",
            "\n"
          ]
        }
      ]
    },
    {
      "cell_type": "code",
      "source": [
        "import pyspark.sql.functions as F"
      ],
      "metadata": {
        "id": "RQYVaLCuUxtZ"
      },
      "execution_count": null,
      "outputs": []
    },
    {
      "cell_type": "code",
      "source": [
        "df2.groupby('winner').agg(count('winner')).show()"
      ],
      "metadata": {
        "colab": {
          "base_uri": "https://localhost:8080/"
        },
        "id": "aIvdxH4VYQWW",
        "outputId": "80c72a6a-04e9-4bb2-c062-5e22e101f563"
      },
      "execution_count": null,
      "outputs": [
        {
          "output_type": "stream",
          "name": "stdout",
          "text": [
            "+--------------------+-------------+\n",
            "|              winner|count(winner)|\n",
            "+--------------------+-------------+\n",
            "| Sunrisers Hyderabad|           66|\n",
            "| Chennai Super Kings|          106|\n",
            "|                  NA|            4|\n",
            "|Rising Pune Super...|           10|\n",
            "|     Deccan Chargers|           29|\n",
            "|Kochi Tuskers Kerala|            6|\n",
            "|    Rajasthan Royals|           81|\n",
            "|       Gujarat Lions|           13|\n",
            "|Royal Challengers...|           91|\n",
            "|Kolkata Knight Ri...|           99|\n",
            "|Rising Pune Super...|            5|\n",
            "|     Kings XI Punjab|           88|\n",
            "|       Pune Warriors|           12|\n",
            "|    Delhi Daredevils|           67|\n",
            "|      Delhi Capitals|           19|\n",
            "|      Mumbai Indians|          120|\n",
            "+--------------------+-------------+\n",
            "\n"
          ]
        }
      ]
    },
    {
      "cell_type": "code",
      "source": [
        "df2=pd.read_csv(\"/content/ipl_matches.csv\")"
      ],
      "metadata": {
        "id": "ElqAArKocLbl"
      },
      "execution_count": null,
      "outputs": []
    },
    {
      "cell_type": "code",
      "source": [
        "import seaborn as sns\n",
        "data =df2.winner.value_counts()\n",
        "\n",
        "sns.barplot(y = data.index, x = data, orient='h');"
      ],
      "metadata": {
        "colab": {
          "base_uri": "https://localhost:8080/",
          "height": 279
        },
        "id": "z9j_0le_SDFV",
        "outputId": "18ed2ac0-16cd-4f01-f391-3d3f9469f7b0"
      },
      "execution_count": null,
      "outputs": [
        {
          "output_type": "display_data",
          "data": {
            "image/png": "[encoded data removed]",
            "text/plain": [
              "<Figure size 432x288 with 1 Axes>"
            ]
          },
          "metadata": {
            "needs_background": "light"
          }
        }
      ]
    },
    {
      "cell_type": "code",
      "source": [
        "data = df2.toss_winner.value_counts()\n",
        "sns.barplot(y = data.index, x = data, orient='h');"
      ],
      "metadata": {
        "colab": {
          "base_uri": "https://localhost:8080/",
          "height": 280
        },
        "id": "ekASNfzFlwy8",
        "outputId": "7786f225-5b94-4c5a-a3fe-2dda46048016"
      },
      "execution_count": null,
      "outputs": [
        {
          "output_type": "display_data",
          "data": {
            "image/png": "[encoded data removed]",
            "text/plain": [
              "<Figure size 432x288 with 1 Axes>"
            ]
          },
          "metadata": {
            "needs_background": "light"
          }
        }
      ]
    },
    {
      "cell_type": "code",
      "source": [
        "import seaborn as sns\n",
        "data = df2.winner==df2.toss_winner\n",
        "sns.barplot(y = data.index, x = data, orient='v');"
      ],
      "metadata": {
        "colab": {
          "base_uri": "https://localhost:8080/",
          "height": 265
        },
        "id": "8UPXQMdXl8H5",
        "outputId": "d4470e0d-2bae-4311-b206-e57ed20b626b"
      },
      "execution_count": null,
      "outputs": [
        {
          "output_type": "display_data",
          "data": {
            "image/png": "[encoded data removed]",
            "text/plain": [
              "<Figure size 432x288 with 1 Axes>"
            ]
          },
          "metadata": {
            "needs_background": "light"
          }
        }
      ]
    },
    {
      "cell_type": "markdown",
      "source": [
        "SECTION-3"
      ],
      "metadata": {
        "id": "osPqcDpJ_EPL"
      }
    },
    {
      "cell_type": "code",
      "source": [
        "import pandas as pd"
      ],
      "metadata": {
        "id": "KmjVpihcGMDN"
      },
      "execution_count": null,
      "outputs": []
    },
    {
      "cell_type": "code",
      "source": [
        "import sqlite3\n",
        "conn=sqlite3.connect(\"ipl.db\")"
      ],
      "metadata": {
        "id": "kotz8CnX86mu"
      },
      "execution_count": null,
      "outputs": []
    },
    {
      "cell_type": "code",
      "source": [
        "df1=pd.read_csv(\"/content/ipl_ball_by_ball.csv\")"
      ],
      "metadata": {
        "id": "L-O7ov-o70Y4"
      },
      "execution_count": null,
      "outputs": []
    },
    {
      "cell_type": "code",
      "source": [
        "df1.to_sql('balls',conn)"
      ],
      "metadata": {
        "id": "OKZanNbcGFYA"
      },
      "execution_count": null,
      "outputs": []
    },
    {
      "cell_type": "code",
      "source": [
        "df2=pd.read_csv(\"/content/ipl_matches.csv\")\n",
        "df2.to_sql('matches', conn)"
      ],
      "metadata": {
        "id": "F5Kbf-e9JRoX"
      },
      "execution_count": null,
      "outputs": []
    },
    {
      "cell_type": "code",
      "source": [
        "df3=pd.read_csv(\"/content/ipl_venue.csv\")\n",
        "df3.to_sql('venue', conn)"
      ],
      "metadata": {
        "id": "Oj_hcLXTJ5yi"
      },
      "execution_count": null,
      "outputs": []
    },
    {
      "cell_type": "code",
      "source": [
        "import sqlite3\n",
        "  \n",
        "try:\n",
        "    sqliteConnection = sqlite3.connect('ipl.db')\n",
        "    print(\"Connected to SQLite\")\n",
        "  \n",
        "    sql_query = \"\"\"SELECT name FROM sqlite_master \n",
        "    WHERE type='table';\"\"\"\n",
        "    cursor = sqliteConnection.cursor()\n",
        "      \n",
        "  \n",
        "    cursor.execute(sql_query)\n",
        "    print(\"List of tables\\n\")\n",
        "      \n",
        "  \n",
        "    print(cursor.fetchall())\n",
        "  \n",
        "except sqlite3.Error as error:\n",
        "    print(\"Failed to execute the above query\", error)\n",
        "      \n",
        "finally:\n",
        "    \n",
        "    if sqliteConnection:\n",
        "          \n",
        "      \n",
        "        sqliteConnection.close()\n",
        "          \n",
        "        print(\"the sqlite connection is closed\")"
      ],
      "metadata": {
        "colab": {
          "base_uri": "https://localhost:8080/"
        },
        "id": "FDII1ThiIME-",
        "outputId": "96cf2656-2e3f-45af-fffe-71e50fde4e92"
      },
      "execution_count": null,
      "outputs": [
        {
          "output_type": "stream",
          "name": "stdout",
          "text": [
            "Connected to SQLite\n",
            "List of tables\n",
            "\n",
            "[('balls',), ('matches',), ('venue',)]\n",
            "the sqlite connection is closed\n"
          ]
        }
      ]
    },
    {
      "cell_type": "code",
      "source": [
        "import json"
      ],
      "metadata": {
        "id": "ZqlZgU-mEAH_"
      },
      "execution_count": null,
      "outputs": []
    },
    {
      "cell_type": "code",
      "source": [
        "class DataBase:\n",
        "\n",
        "    def _new_(cls, *args, **kwargs):\n",
        "      if cls.instance is None:\n",
        "          cls.instance = super()._new_(DataBase)\n",
        "          return cls.instance\n",
        "      return cls.instance\n",
        "    \n",
        "    def _init_(self):\n",
        "      self.conn = sqlite3.connect('ipl.db')\n",
        "      \n",
        "    def create_view(self, conn, create_view_sql):\n",
        "      try:\n",
        "        c=conn.cursor()\n",
        "        c.execute(create_view_sql)\n",
        "      except Exception as e:\n",
        "        print(e)\n",
        "\n",
        "\n",
        "    def get_query1_result(self):\n",
        "      elim=\"create VIEW elim as select venue_id, count(venue_id) as eliminators from matches where eliminator='Y' group by venue_id order by eliminators desc;\"\n",
        "      self.create_view (conn, elim)\n",
        "      cursor= conn.execute(\"select elim.venue_id, eliminators, venue from elim, venue where elim.venue_id=venue.venue_id group by venue, elim.venue_id, eliminators order by eliminators desc limit 3;\")\n",
        "      row_headers=[x[0] for x in cursor.description]\n",
        "      rv = cursor.fetchmany()\n",
        "      print(rv)\n",
        "      json_data=[]\n",
        "      for result in rv:\n",
        "        json_data.append(dict(zip(row_headers,result)))\n",
        "      print(json_data)\n",
        "      \n",
        "    def get_query2_result(self):\n",
        "      cursor=conn.execute(\"select  fielder, count(fielder) as total_catches from balls where dismissal_kind='caught' group by fielder order by total_catches desc;\")\n",
        "      row_headers=[x[0] for x in cursor.description]\n",
        "      rv = cursor.fetchmany()\n",
        "      print(rv)\n",
        "      json_data=[]\n",
        "      for result in rv:\n",
        "        json_data.append(dict(zip(row_headers,result)))\n",
        "      print(json_data)\n",
        "\n",
        "    def get_query3_result(self):\n",
        "      wicket=\"create VIEW wicket as select bowler, count(bowler) as wickets, match_id from balls where is_wicket=1 group by bowler, match_id order by wickets desc; \"\n",
        "      self.create_view(conn,wicket)\n",
        "      cursor=conn.execute(\"select bowler, sum(wickets) as wickets from wicket, matches where method='D/L' group by bowler order by wickets desc;\")\n",
        "      cursor= conn.execute(\"\")\n",
        "      row_headers=[x[0] for x in cursor.description]\n",
        "      rv = cursor.fetchmany()\n",
        "      print(rv)\n",
        "      json_data=[]\n",
        "      for result in rv:\n",
        "        json_data.append(dict(zip(row_headers,result)))\n",
        "      print(json_data)\n",
        "\n",
        "    def get_query4_result(self):\n",
        "      cursor= conn.execute(\"select overs,batsman, (sum(batsman_runs)/count(batsman_runs))*100 as Strike_rate from balls where overs>7 and overs<20 group by batsman, overs;\")\n",
        "      row_headers=[x[0] for x in cursor.description]\n",
        "      rv = cursor.fetchmany()\n",
        "      print(rv)\n",
        "      json_data=[]\n",
        "      for result in rv:\n",
        "        json_data.append(dict(zip(row_headers,result)))\n",
        "      print(json_data)\n",
        "\n",
        "    def get_query5_result(self):\n",
        "      match=\"create VIEW match as select match_id, sum(extra_runs) as extra_runs from balls group by(match_id) order by extra_runs desc;\"\n",
        "      self.create_view (conn, match)\n",
        "      temp=\" create VIEW temp as select * from match, matches where match.match_id=matches.match_id;\"\n",
        "      self.create_view (conn, temp)\n",
        "      cursor= conn.execute(\"select temp.venue_id, venue, sum(extra_runs) from temp, venue where temp.venue_id=venue.venue_id group by temp.venue_id, venue order by sum(extra_runs) desc limit 1;\")\n",
        "      row_headers=[x[0] for x in cursor.description]\n",
        "      rv = cursor.fetchmany()\n",
        "      print(rv)\n",
        "      json_data=[]\n",
        "      for result in rv:\n",
        "        json_data.append(dict(zip(row_headers,result)))\n",
        "      print(json_data)\n",
        "\n",
        "    def get_query6_result(self):\n",
        "      cursor= conn.execute(\"select player_of_match, count(player_of_match) from matches where neutral_venue>0 group by player_of_match order by count(player_of_match) desc;\")\n",
        "      row_headers=[x[0] for x in cursor.description]\n",
        "      rv = cursor.fetchmany()\n",
        "      print(rv)\n",
        "      json_data=[]\n",
        "      for result in rv:\n",
        "        json_data.append(dict(zip(row_headers,result)))\n",
        "      print(json_data)\n",
        "\n",
        "    def get_query7_result(self):\n",
        "      cursor= conn.execute(\"select Batsman_, sum(batsman_runs)/count(player_dismissed) as Average from((select batsman as Batsman_,batsman_runs,player_dismissed \\\n",
        "      from balls) UNION ALL (select non_striker as Batsman_,batsman_runs,player_dismissed from balls)) \\\n",
        "      group by Batsman_ order by Average desc;\")\n",
        "      row_headers=[x[0] for x in cursor.description]\n",
        "      rv = cursor.fetchmany()\n",
        "      print(rv)\n",
        "      json_data=[]\n",
        "      for result in rv:\n",
        "        json_data.append(dict(zip(row_headers,result)))\n",
        "      print(json_data)\n",
        "\n",
        "    def get_query8_result(self):\n",
        "      cursor= conn.execute(\"select umpire, count(*) from ((select umpire1 as umpire from matches) union all (select umpire2 from matches)) matches group by umpire order by count(*) desc;\")\n",
        "      row_headers=[x[0] for x in cursor.description]\n",
        "      rv = cursor.fetchmany()\n",
        "      print(rv)\n",
        "      json_data=[]\n",
        "      for result in rv:\n",
        "        json_data.append(dict(zip(row_headers,result)))\n",
        "      print(json_data)\n",
        "\n",
        "    def get_query9_result(self):\n",
        "      v_kohli=\"create VIEW v_kohli as select match_id, sum(batsman_runs) as batsman_runs from balls where batsman='V Kohli' group by match_id order by batsman_runs desc limit 1;\"\n",
        "      self.create_view (conn, v_kohli)\n",
        "      tempe=\"create VIEW tempe as select * from v_kohli, matches where v_kohli.match_id=matches.match_id; \"\n",
        "      self.create_view (conn, tempe)\n",
        "      cursor= conn.execute(\"select v_kohli.match_id, tempe.batsman_runs, venue, city from v_kohli, tempe, venue where tempe.venue_id=venue.venue_id group by v_kohli.match_id, tempe.batsman_runs, venue, city order by batsman_runs desc;\")\n",
        "\n",
        "      row_headers=[x[0] for x in cursor.description]\n",
        "      rv = cursor.fetchmany()\n",
        "      print(rv)\n",
        "      json_data=[]\n",
        "      for result in rv:\n",
        "        json_data.append(dict(zip(row_headers,result)))\n",
        "      print(json_data)\n",
        "\n",
        "    def get_query10_1_result(self):\n",
        "      not_winner=\"create not_winner as select toss_winner, winner,COUNT(*) as not_win from matches where toss_winner!=winner group by toss_winner, winner;\"\n",
        "      self.create_view(conn, not_winner)\n",
        "      cursor= conn.execute(\"select sum(not_win) from not_winner;\")\n",
        "      row_headers=[x[0] for x in cursor.description]\n",
        "      rv = cursor.fetchmany()\n",
        "      print(rv)\n",
        "      json_data=[]\n",
        "      for result in rv:\n",
        "        json_data.append(dict(zip(row_headers,result)))\n",
        "      print(json_data)\n",
        "\n",
        "    def get_query10_2_result(self):\n",
        "      winners=\"create VIEW winners as select toss_winner, winner,COUNT(*) as win from matches where toss_winner==winner group by toss_winner, winner;\"\n",
        "      self.create_view(conn,winners)\n",
        "      cursor= conn.execute(\"select sum(win) from winners;\")\n",
        "      row_headers=[x[0] for x in cursor.description]\n",
        "      rv = cursor.fetchmany()\n",
        "      print(rv)\n",
        "      json_data=[]\n",
        "      for result in rv:\n",
        "        json_data.append(dict(zip(row_headers,result)))\n",
        "      print(json_data)\n",
        "\n",
        "    def get_status(self,conn):\n",
        "     try:\n",
        "        conn.cursor()\n",
        "        return True\n",
        "     except Exception as ex:\n",
        "        return False\n",
        "\n",
        "    def _del_(self):\n",
        "        self.conn.close()"
      ],
      "metadata": {
        "id": "T62slFYM5XJ1"
      },
      "execution_count": null,
      "outputs": []
    },
    {
      "cell_type": "code",
      "source": [
        "test=DataBase()\n",
        "test.get_query10_2_result()"
      ],
      "metadata": {
        "colab": {
          "base_uri": "https://localhost:8080/"
        },
        "id": "MzgmccOz5tSs",
        "outputId": "80181048-fa3b-48ef-cd48-881c092b14a0"
      },
      "execution_count": null,
      "outputs": [
        {
          "output_type": "stream",
          "name": "stdout",
          "text": [
            "table winners already exists\n",
            "[(418,)]\n",
            "[{'sum(win)': 418}]\n"
          ]
        }
      ]
    },
    {
      "cell_type": "code",
      "source": [
        ""
      ],
      "metadata": {
        "id": "O-C2QvsnFiai"
      },
      "execution_count": null,
      "outputs": []
    }
  ],
  "metadata": {
    "colab": {
      "name": "DataGrokr_Assignment.ipynb",
      "provenance": [],
      "collapsed_sections": []
    },
    "kernelspec": {
      "display_name": "Python 3",
      "name": "python3"
    },
    "language_info": {
      "name": "python"
    }
  },
  "nbformat": 4,
  "nbformat_minor": 0
}